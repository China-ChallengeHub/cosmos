{
 "cells": [
  {
   "cell_type": "markdown",
   "metadata": {},
   "source": [
    "#### Fusion Layer Result"
   ]
  },
  {
   "cell_type": "markdown",
   "metadata": {},
   "source": [
    "##### Fusion Layer 之前最好的结果"
   ]
  },
  {
   "cell_type": "markdown",
   "metadata": {},
   "source": [
    "|Roberta|environment|accuracy|eval_loss|\n",
    "|:---:|:-------:|:----:|:----:|\n",
    "| base|cosmos100|0.7209|0.8017|\n",
    "| base|cosmos110|0.7209|0.8017|\n",
    "| base|cosmos120|0.7209|0.8017|"
   ]
  },
  {
   "cell_type": "markdown",
   "metadata": {},
   "source": [
    "##### Fusion Layer 目前运行结果"
   ]
  },
  {
   "cell_type": "markdown",
   "metadata": {},
   "source": [
    "|Roberta|learning_rate|n_gpu|train_batch_size|epoch|optimizer|warmup_step|seq_len|weight_decay|adam_epsilon|accuracy|\n",
    "|:---:|:---:|:---:|:---:|:---:|:---:|:---:|:---:|:---:|:---:|:----:|\n",
    "| base| 1e-5|  4  |  12 |  5  |Adamw|  0  | 256 | 0.01| 1e-6|0.7041|\n",
    "| base| 1e-5|  4  |  12 |  5  |Adamw| 1053| 256 | 0.01| 1e-6|0.7065|\n",
    "| base| 1e-5|  4  |  12 |  5  |Adamw| 1500| 256 | 0.01| 1e-6|0.7055|\n",
    "| base| 1e-5|  4  |  16 |  5  |Adamw|  0  | 256 | 0.01| 1e-6|0|\n",
    "| base| 1e-5|  4  |  16 |  5  |Adamw| 1000| 256 | 0.01| 1e-6|0|\n",
    "| base| 1e-5|  4  |  16 |  5  |Adamw| 1500| 256 | 0.01| 1e-6|0|\n",
    "\n"
   ]
  },
  {
   "cell_type": "code",
   "execution_count": null,
   "metadata": {},
   "outputs": [],
   "source": []
  },
  {
   "cell_type": "code",
   "execution_count": null,
   "metadata": {},
   "outputs": [],
   "source": []
  }
 ],
 "metadata": {
  "kernelspec": {
   "display_name": "Python 3",
   "language": "python",
   "name": "python3"
  },
  "language_info": {
   "codemirror_mode": {
    "name": "ipython",
    "version": 3
   },
   "file_extension": ".py",
   "mimetype": "text/x-python",
   "name": "python",
   "nbconvert_exporter": "python",
   "pygments_lexer": "ipython3",
   "version": "3.7.6"
  }
 },
 "nbformat": 4,
 "nbformat_minor": 4
}
