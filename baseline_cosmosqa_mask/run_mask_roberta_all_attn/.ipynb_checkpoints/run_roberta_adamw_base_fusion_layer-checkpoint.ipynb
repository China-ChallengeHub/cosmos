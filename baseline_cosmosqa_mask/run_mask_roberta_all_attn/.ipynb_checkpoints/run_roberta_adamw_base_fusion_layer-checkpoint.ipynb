{
 "cells": [
  {
   "cell_type": "markdown",
   "metadata": {},
   "source": [
    "## Fusion Layer Result"
   ]
  },
  {
   "cell_type": "markdown",
   "metadata": {},
   "source": [
    "### Fusion Layer 之前最好的结果"
   ]
  },
  {
   "cell_type": "markdown",
   "metadata": {},
   "source": [
    "|Roberta|environment|accuracy|eval_loss|\n",
    "|:---:|:-------:|:----:|:----:|\n",
    "| base|cosmos100|0.7209|0.8017|\n",
    "| base|cosmos110|0.7209|0.8017|\n",
    "| base|cosmos120|0.7209|0.8017|\n",
    "|\\*|\\*|\\*|\\*|\n",
    "| base|cosmos110|0.7213|0.8012|"
   ]
  },
  {
   "cell_type": "markdown",
   "metadata": {},
   "source": [
    "### Fusion Layer 目前运行结果"
   ]
  },
  {
   "cell_type": "markdown",
   "metadata": {},
   "source": [
    "#### warmup\\_step\n",
    "|Roberta|learning_rate|n_gpu|train_batch_size|epoch|optimizer|warmup_step|seq_len|weight_decay|adam_epsilon|accuracy|\n",
    "|:---:|:---:|:---:|:---:|:---:|:---:|:---:|:---:|:---:|:---:|:----:|\n",
    "| base| 1e-5|  4  |  12 |  5  |Adamw|  0  | 256 | 0.01| 1e-6|0.7041|\n",
    "| base| 1e-5|  4  |  12 |  5  |Adamw| 1000| 256 | 0.01| 1e-6|0.6982|\n",
    "| base| 1e-5|  4  |  12 |  5  |Adamw| 1053| 256 | 0.01| 1e-6|0.7065|\n",
    "| base| 1e-5|  4  |  12 |  5  |Adamw| 1500| 256 | 0.01| 1e-6|0.7055|\n",
    "| base| 1e-5|  4  |  16 |  5  |Adamw|  0  | 256 | 0.01| 1e-6|0.7028|\n",
    "| base| 1e-5|  4  |  16 |  5  |Adamw| 1000| 256 | 0.01| 1e-6|0.6988|\n",
    "| base| 1e-5|  4  |  16 |  5  |Adamw| 1500| 256 | 0.01| 1e-6|0.7069|"
   ]
  },
  {
   "cell_type": "markdown",
   "metadata": {},
   "source": [
    "#### learning\\_rate\n",
    "  \n",
    "|Roberta|learning_rate|n_gpu|train_batch_size|epoch|optimizer|warmup_step|seq_len|weight_decay|adam_epsilon|accuracy|\n",
    "|:---:|:---:|:---:|:---:|:---:|:---:|:---:|:---:|:---:|:---:|:----:|\n",
    "| base| 2e-5|  4  |  12 |  5  |Adamw|  0  | 256 | 0.01| 1e-6|0.6958|\n",
    "| base| 2e-5|  4  |  12 |  5  |Adamw| 1000| 256 | 0.01| 1e-6|0.6975|\n",
    "| base| 2e-5|  4  |  12 |  5  |Adamw| 1053| 256 | 0.01| 1e-6|0.7075|\n",
    "| base| 2e-5|  4  |  12 |  5  |Adamw| 1500| 256 | 0.01| 1e-6|0.7031|\n",
    "| base| 2e-5|  4  |  16 |  5  |Adamw|  0  | 256 | 0.01| 1e-6|0.6975|\n",
    "| base| 2e-5|  4  |  16 |  5  |Adamw| 1000| 256 | 0.01| 1e-6|0.7018|\n",
    "| base| 2e-5|  4  |  16 |  5  |Adamw| 1500| 256 | 0.01| 1e-6|0.6978|"
   ]
  },
  {
   "cell_type": "markdown",
   "metadata": {},
   "source": [
    "#### adam_epsilon \n",
    "|Roberta|learning_rate|n_gpu|train_batch_size|epoch|optimizer|warmup_step|seq_len|weight_decay|adam_epsilon|accuracy|\n",
    "|:---:|:---:|:---:|:---:|:---:|:---:|:---:|:---:|:---:|:---:|:----:|\n",
    "| base| 1e-5|  4  |  12 |  5  |Adamw|  0  | 256 | 0.01| 1e-6|0.7041|\n",
    "| base| 1e-5|  4  |  12 |  5  |Adamw|  0  | 256 | 0.01| 1e-8|0.7132|\n",
    "| base| 1e-5|  4  |  12 |  5  |Adamw| 1053| 256 | 0.01| 1e-8|0.7021|\n",
    "| base| 1e-5|  4  |  16 |  5  |Adamw|  0  | 256 | 0.01| 1e-8|0.6971|\n"
   ]
  },
  {
   "cell_type": "markdown",
   "metadata": {},
   "source": [
    "#### weight_decay\n",
    "  \n",
    "|Roberta|learning_rate|n_gpu|train_batch_size|epoch|optimizer|warmup_step|seq_len|weight_decay|adam_epsilon|accuracy|\n",
    "|:---:|:---:|:---:|:---:|:---:|:---:|:---:|:---:|:---:|:---:|:----:|\n",
    "| base| 1e-5|  4  |  12 |  5  |Adamw|  0  | 256 | 0.01| 1e-6|0.7041|\n",
    "| base| 1e-5|  4  |  12 |  5  |Adamw|  0  | 256 |  0  | 1e-6|0.7015|\n",
    "| base| 1e-5|  4  |  12 |  5  |Adamw|  0  | 256 | 0.01| 1e-8|0.7132|\n",
    "| base| 1e-5|  4  |  12 |  5  |Adamw|  0  | 256 |  0  | 1e-8|0.7078|\n",
    "| base| 1e-5|  4  |  16 |  5  |Adamw|  0  | 256 | 0.01| 1e-8|0|\n",
    "| base| 2e-5|  4  |  16 |  5  |Adamw|  0  | 256 | 0.01| 1e-8|0|\n"
   ]
  },
  {
   "cell_type": "code",
   "execution_count": null,
   "metadata": {},
   "outputs": [],
   "source": []
  }
 ],
 "metadata": {
  "kernelspec": {
   "display_name": "Python 3",
   "language": "python",
   "name": "python3"
  },
  "language_info": {
   "codemirror_mode": {
    "name": "ipython",
    "version": 3
   },
   "file_extension": ".py",
   "mimetype": "text/x-python",
   "name": "python",
   "nbconvert_exporter": "python",
   "pygments_lexer": "ipython3",
   "version": "3.7.6"
  }
 },
 "nbformat": 4,
 "nbformat_minor": 4
}
